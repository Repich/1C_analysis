{
 "cells": [
  {
   "cell_type": "code",
   "execution_count": 2,
   "metadata": {},
   "outputs": [
    {
     "name": "stdout",
     "output_type": "stream",
     "text": [
      "Start2018-02-12 12:52:37.874477\n"
     ]
    },
    {
     "ename": "UnicodeDecodeError",
     "evalue": "'utf-8' codec can't decode byte 0xcd in position 6833: invalid continuation byte",
     "output_type": "error",
     "traceback": [
      "\u001b[1;31m---------------------------------------------------------------------------\u001b[0m",
      "\u001b[1;31mUnicodeDecodeError\u001b[0m                        Traceback (most recent call last)",
      "\u001b[1;32m<ipython-input-2-ab27a2668cc4>\u001b[0m in \u001b[0;36m<module>\u001b[1;34m()\u001b[0m\n\u001b[0;32m     49\u001b[0m     \u001b[1;32mfor\u001b[0m \u001b[0mf\u001b[0m \u001b[1;32min\u001b[0m \u001b[0mfiles\u001b[0m\u001b[1;33m:\u001b[0m\u001b[1;33m\u001b[0m\u001b[0m\n\u001b[0;32m     50\u001b[0m         \u001b[0mfilenameTZH\u001b[0m \u001b[1;33m=\u001b[0m \u001b[0mos\u001b[0m\u001b[1;33m.\u001b[0m\u001b[0mpath\u001b[0m\u001b[1;33m.\u001b[0m\u001b[0msplitext\u001b[0m\u001b[1;33m(\u001b[0m\u001b[0mf\u001b[0m\u001b[1;33m)\u001b[0m\u001b[1;33m[\u001b[0m\u001b[1;36m0\u001b[0m\u001b[1;33m]\u001b[0m\u001b[1;33m\u001b[0m\u001b[0m\n\u001b[1;32m---> 51\u001b[1;33m         \u001b[0mdf_result\u001b[0m \u001b[1;33m=\u001b[0m \u001b[0mwriteFileTZHToTXT\u001b[0m\u001b[1;33m(\u001b[0m\u001b[0md\u001b[0m\u001b[1;33m+\u001b[0m\u001b[1;34m\"\\\\\"\u001b[0m\u001b[1;33m+\u001b[0m\u001b[0mf\u001b[0m\u001b[1;33m,\u001b[0m\u001b[0mfilenameTZH\u001b[0m\u001b[1;33m,\u001b[0m \u001b[0mdf_result\u001b[0m\u001b[1;33m)\u001b[0m\u001b[1;33m\u001b[0m\u001b[0m\n\u001b[0m\u001b[0;32m     52\u001b[0m \u001b[0mdf_result\u001b[0m\u001b[1;33m.\u001b[0m\u001b[0mto_csv\u001b[0m\u001b[1;33m(\u001b[0m\u001b[1;34mr'C://Temp//result.csv'\u001b[0m\u001b[1;33m,\u001b[0m \u001b[0msep\u001b[0m \u001b[1;33m=\u001b[0m \u001b[1;34m';'\u001b[0m\u001b[1;33m)\u001b[0m\u001b[1;33m\u001b[0m\u001b[0m\n\u001b[0;32m     53\u001b[0m \u001b[0mprint\u001b[0m\u001b[1;33m(\u001b[0m\u001b[1;34m'End. '\u001b[0m\u001b[1;33m+\u001b[0m\u001b[0mstr\u001b[0m\u001b[1;33m(\u001b[0m\u001b[0mdatetime\u001b[0m\u001b[1;33m.\u001b[0m\u001b[0mdatetime\u001b[0m\u001b[1;33m.\u001b[0m\u001b[0mnow\u001b[0m\u001b[1;33m(\u001b[0m\u001b[1;33m)\u001b[0m\u001b[1;33m)\u001b[0m\u001b[1;33m)\u001b[0m\u001b[1;33m\u001b[0m\u001b[0m\n",
      "\u001b[1;32m<ipython-input-2-ab27a2668cc4>\u001b[0m in \u001b[0;36mwriteFileTZHToTXT\u001b[1;34m(fileName, filenameTZH, df_result)\u001b[0m\n\u001b[0;32m     15\u001b[0m     \u001b[0mf\u001b[0m \u001b[1;33m=\u001b[0m \u001b[0mopen\u001b[0m\u001b[1;33m(\u001b[0m\u001b[0mfileName\u001b[0m\u001b[1;33m,\u001b[0m\u001b[1;34m'r'\u001b[0m\u001b[1;33m,\u001b[0m \u001b[0mencoding\u001b[0m\u001b[1;33m=\u001b[0m\u001b[1;34m'utf-8-sig'\u001b[0m\u001b[1;33m)\u001b[0m\u001b[1;33m\u001b[0m\u001b[0m\n\u001b[0;32m     16\u001b[0m \u001b[1;31m#    print('Start regular. '+str(datetime.datetime.now()))\u001b[0m\u001b[1;33m\u001b[0m\u001b[1;33m\u001b[0m\u001b[0m\n\u001b[1;32m---> 17\u001b[1;33m     \u001b[0ml\u001b[0m \u001b[1;33m=\u001b[0m \u001b[0mcompiled_re\u001b[0m\u001b[1;33m.\u001b[0m\u001b[0mfindall\u001b[0m\u001b[1;33m(\u001b[0m\u001b[0mf\u001b[0m\u001b[1;33m.\u001b[0m\u001b[0mread\u001b[0m\u001b[1;33m(\u001b[0m\u001b[1;33m)\u001b[0m\u001b[1;33m)\u001b[0m\u001b[1;33m\u001b[0m\u001b[0m\n\u001b[0m\u001b[0;32m     18\u001b[0m \u001b[1;31m#    print('End regular '+str(datetime.datetime.now()))\u001b[0m\u001b[1;33m\u001b[0m\u001b[1;33m\u001b[0m\u001b[0m\n\u001b[0;32m     19\u001b[0m \u001b[1;31m#    print('Размер списка '+str(len(l)))\u001b[0m\u001b[1;33m\u001b[0m\u001b[1;33m\u001b[0m\u001b[0m\n",
      "\u001b[1;32m~\\Anaconda3\\lib\\codecs.py\u001b[0m in \u001b[0;36mdecode\u001b[1;34m(self, input, final)\u001b[0m\n\u001b[0;32m    319\u001b[0m         \u001b[1;31m# decode input (taking the buffer into account)\u001b[0m\u001b[1;33m\u001b[0m\u001b[1;33m\u001b[0m\u001b[0m\n\u001b[0;32m    320\u001b[0m         \u001b[0mdata\u001b[0m \u001b[1;33m=\u001b[0m \u001b[0mself\u001b[0m\u001b[1;33m.\u001b[0m\u001b[0mbuffer\u001b[0m \u001b[1;33m+\u001b[0m \u001b[0minput\u001b[0m\u001b[1;33m\u001b[0m\u001b[0m\n\u001b[1;32m--> 321\u001b[1;33m         \u001b[1;33m(\u001b[0m\u001b[0mresult\u001b[0m\u001b[1;33m,\u001b[0m \u001b[0mconsumed\u001b[0m\u001b[1;33m)\u001b[0m \u001b[1;33m=\u001b[0m \u001b[0mself\u001b[0m\u001b[1;33m.\u001b[0m\u001b[0m_buffer_decode\u001b[0m\u001b[1;33m(\u001b[0m\u001b[0mdata\u001b[0m\u001b[1;33m,\u001b[0m \u001b[0mself\u001b[0m\u001b[1;33m.\u001b[0m\u001b[0merrors\u001b[0m\u001b[1;33m,\u001b[0m \u001b[0mfinal\u001b[0m\u001b[1;33m)\u001b[0m\u001b[1;33m\u001b[0m\u001b[0m\n\u001b[0m\u001b[0;32m    322\u001b[0m         \u001b[1;31m# keep undecoded input until the next call\u001b[0m\u001b[1;33m\u001b[0m\u001b[1;33m\u001b[0m\u001b[0m\n\u001b[0;32m    323\u001b[0m         \u001b[0mself\u001b[0m\u001b[1;33m.\u001b[0m\u001b[0mbuffer\u001b[0m \u001b[1;33m=\u001b[0m \u001b[0mdata\u001b[0m\u001b[1;33m[\u001b[0m\u001b[0mconsumed\u001b[0m\u001b[1;33m:\u001b[0m\u001b[1;33m]\u001b[0m\u001b[1;33m\u001b[0m\u001b[0m\n",
      "\u001b[1;32m~\\Anaconda3\\lib\\encodings\\utf_8_sig.py\u001b[0m in \u001b[0;36m_buffer_decode\u001b[1;34m(self, input, errors, final)\u001b[0m\n\u001b[0;32m     67\u001b[0m                        \u001b[0mcodecs\u001b[0m\u001b[1;33m.\u001b[0m\u001b[0mutf_8_decode\u001b[0m\u001b[1;33m(\u001b[0m\u001b[0minput\u001b[0m\u001b[1;33m[\u001b[0m\u001b[1;36m3\u001b[0m\u001b[1;33m:\u001b[0m\u001b[1;33m]\u001b[0m\u001b[1;33m,\u001b[0m \u001b[0merrors\u001b[0m\u001b[1;33m,\u001b[0m \u001b[0mfinal\u001b[0m\u001b[1;33m)\u001b[0m\u001b[1;33m\u001b[0m\u001b[0m\n\u001b[0;32m     68\u001b[0m                     \u001b[1;32mreturn\u001b[0m \u001b[1;33m(\u001b[0m\u001b[0moutput\u001b[0m\u001b[1;33m,\u001b[0m \u001b[0mconsumed\u001b[0m\u001b[1;33m+\u001b[0m\u001b[1;36m3\u001b[0m\u001b[1;33m)\u001b[0m\u001b[1;33m\u001b[0m\u001b[0m\n\u001b[1;32m---> 69\u001b[1;33m         \u001b[1;32mreturn\u001b[0m \u001b[0mcodecs\u001b[0m\u001b[1;33m.\u001b[0m\u001b[0mutf_8_decode\u001b[0m\u001b[1;33m(\u001b[0m\u001b[0minput\u001b[0m\u001b[1;33m,\u001b[0m \u001b[0merrors\u001b[0m\u001b[1;33m,\u001b[0m \u001b[0mfinal\u001b[0m\u001b[1;33m)\u001b[0m\u001b[1;33m\u001b[0m\u001b[0m\n\u001b[0m\u001b[0;32m     70\u001b[0m \u001b[1;33m\u001b[0m\u001b[0m\n\u001b[0;32m     71\u001b[0m     \u001b[1;32mdef\u001b[0m \u001b[0mreset\u001b[0m\u001b[1;33m(\u001b[0m\u001b[0mself\u001b[0m\u001b[1;33m)\u001b[0m\u001b[1;33m:\u001b[0m\u001b[1;33m\u001b[0m\u001b[0m\n",
      "\u001b[1;31mUnicodeDecodeError\u001b[0m: 'utf-8' codec can't decode byte 0xcd in position 6833: invalid continuation byte"
     ]
    }
   ],
   "source": [
    "import os\n",
    "import datetime\n",
    "import re\n",
    "import json\n",
    "import pandas as pd\n",
    "from collections import namedtuple\n",
    "import pickle\n",
    "from matplotlib import pylab as plt\n",
    "import sys\n",
    "\n",
    "\n",
    "def writeFileTZHToTXT(fileName, filenameTZH, df_result):\n",
    "#    print(fileName)\n",
    "    compiled_re = re.compile(\"(\\d\\d:\\d\\d).(\\d+)-(\\d+),([a-zA-Z]+),(\\d+)(?:,([a-zA-Z:]+)=([\\s\\S]*?)(?=(?:,[a-zA-Z:]+=|\\n\\d\\d:\\d\\d)))?(?:,([a-zA-Z:]+)=([\\s\\S]*?)(?=(?:,[a-zA-Z:]+=|\\n\\d\\d:\\d\\d)))?(?:,([a-zA-Z:]+)=([\\s\\S]*?)(?=(?:,[a-zA-Z:]+=|\\n\\d\\d:\\d\\d)))?(?:,([a-zA-Z:]+)=([\\s\\S]*?)(?=(?:,[a-zA-Z:]+=|\\n\\d\\d:\\d\\d)))?(?:,([a-zA-Z:]+)=([\\s\\S]*?)(?=(?:,[a-zA-Z:]+=|\\n\\d\\d:\\d\\d)))?(?:,([a-zA-Z:]+)=([\\s\\S]*?)(?=(?:,[a-zA-Z:]+=|\\n\\d\\d:\\d\\d)))?(?:,([a-zA-Z:]+)=([\\s\\S]*?)(?=(?:,[a-zA-Z:]+=|\\n\\d\\d:\\d\\d)))?(?:,([a-zA-Z:]+)=([\\s\\S]*?)(?=(?:,[a-zA-Z:]+=|\\n\\d\\d:\\d\\d)))?(?:,([a-zA-Z:]+)=([\\s\\S]*?)(?=(?:,[a-zA-Z:]+=|\\n\\d\\d:\\d\\d)))?(?:,([a-zA-Z:]+)=([\\s\\S]*?)(?=(?:,[a-zA-Z:]+=|\\n\\d\\d:\\d\\d)))?(?:,([a-zA-Z:]+)=([\\s\\S]*?)(?=(?:,[a-zA-Z:]+=|\\n\\d\\d:\\d\\d)))?(?:,([a-zA-Z:]+)=([\\s\\S]*?)(?=(?:,[a-zA-Z:]+=|\\n\\d\\d:\\d\\d)))?(?:,([a-zA-Z:]+)=([\\s\\S]*?)(?=(?:,[a-zA-Z:]+=|\\n\\d\\d:\\d\\d)))?\")\n",
    "    f = open(fileName,'r', encoding='utf-8-sig')\n",
    "#    print('Start regular. '+str(datetime.datetime.now()))\n",
    "    l = compiled_re.findall(f.read())\n",
    "#    print('End regular '+str(datetime.datetime.now()))\n",
    "#    print('Размер списка '+str(len(l)))\n",
    "\n",
    "    #Обходим элементы массива. 0 - время, 1 - микросекунды, 2 - длительность. Подробней по ссылке.\n",
    "    #http://its.1c.ru/db/v838doc#bookmark:adm:TI000000151\n",
    "    list_result = []\n",
    "    for m in l:\n",
    "#        tzhJSON = {'datetime':'20'+filenameTZH+m[0].replace(':','')}\n",
    "        tzhJSON = {'datetime':'20'+filenameTZH[0:1]+'-'+filenameTZH[2:3]+'-'+filenameTZH[4:5]+' '+filenameTZH[6:7]+':'+m[0]}\n",
    "        tzhJSON['timems'] = m[1]\n",
    "        tzhJSON['duration'] = m[2]\n",
    "        tzhJSON['type'] = m[3]\n",
    "        tzhJSON['level'] = m[4]\n",
    "        i = 5\n",
    "        while i<len(m):\n",
    "#            Пустой идентификатор, пропускаем\n",
    "            if m[i] != '':\n",
    "                tzhJSON[m[i]] = m[i+1]\n",
    "            i = i+2\n",
    "        if tzhJSON['type'] != 'EXCPCNTX':\n",
    "            list_result.append(tzhJSON)\n",
    "    if len(list_result) > 0:\n",
    "        df_result = df_result.append(list_result, ignore_index = True)\n",
    "        print(fileName)\n",
    "    return(df_result)\n",
    "\n",
    "print('Start'+str(datetime.datetime.now()))\n",
    "path_f = []\n",
    "df_result = pd.DataFrame()\n",
    "for d, dirs, files in os.walk(r'C://Temp'):\n",
    "\n",
    "    for f in files:\n",
    "        filenameTZH = os.path.splitext(f)[0]\n",
    "        df_result = writeFileTZHToTXT(d+\"\\\\\"+f,filenameTZH, df_result)\n",
    "df_result.to_csv(r'C://Temp//result.csv', sep = ';')\n",
    "print('End. '+str(datetime.datetime.now()))"
   ]
  },
  {
   "cell_type": "code",
   "execution_count": null,
   "metadata": {
    "collapsed": true
   },
   "outputs": [],
   "source": []
  }
 ],
 "metadata": {
  "anaconda-cloud": {},
  "kernelspec": {
   "display_name": "Python 3",
   "language": "python",
   "name": "python3"
  },
  "language_info": {
   "codemirror_mode": {
    "name": "ipython",
    "version": 3
   },
   "file_extension": ".py",
   "mimetype": "text/x-python",
   "name": "python",
   "nbconvert_exporter": "python",
   "pygments_lexer": "ipython3",
   "version": "3.6.3"
  }
 },
 "nbformat": 4,
 "nbformat_minor": 1
}
